{
 "cells": [
  {
   "cell_type": "markdown",
   "metadata": {},
   "source": [
    "# Manipulation des données sous Numpy \n"
   ]
  },
  {
   "cell_type": "markdown",
   "metadata": {},
   "source": [
    "## I. Introduction \n"
   ]
  },
  {
   "cell_type": "markdown",
   "metadata": {},
   "source": [
    "#### Exemple introductif: \n",
    "soit la liste suivante \"revenus\" represente le revenu de cinq clients de notre banque"
   ]
  },
  {
   "cell_type": "code",
   "execution_count": 1,
   "metadata": {},
   "outputs": [],
   "source": [
    "revenus=[1700,2200,3000,1950, 3100]"
   ]
  },
  {
   "cell_type": "markdown",
   "metadata": {},
   "source": [
    "Pour calculer la moyenne de cette liste, il n'existe pas une fonction qui permet de le faire directement. il faut creer une."
   ]
  },
  {
   "cell_type": "code",
   "execution_count": 2,
   "metadata": {},
   "outputs": [
    {
     "data": {
      "text/plain": [
       "2390.0"
      ]
     },
     "execution_count": 2,
     "metadata": {},
     "output_type": "execute_result"
    }
   ],
   "source": [
    "def moyenne(liste):\n",
    "    return(sum(liste)/len(liste))\n",
    "moyenne(revenus)"
   ]
  },
  {
   "cell_type": "markdown",
   "metadata": {},
   "source": [
    "Ce code est excelent, il donne le resultat demandé, mais pour être plus rapide et plus efficace on peut utiliser la librairie NumPy qui offre des fonctions pour des opérations sur les données en se bassant sur l'objet array."
   ]
  },
  {
   "cell_type": "markdown",
   "metadata": {},
   "source": [
    "Le tableau NumPy, ou array, en anglais, est d’une certaine manière similaire à une liste Python. \n",
    "Il permet d’effectuer simplement et rapidement de nombreuses opérations complexes, en plus de faciliter le stockage et la manipulation des données\n"
   ]
  },
  {
   "cell_type": "markdown",
   "metadata": {},
   "source": [
    "Refaire le calcul de la moyenne avec NumPy \n"
   ]
  },
  {
   "cell_type": "markdown",
   "metadata": {},
   "source": [
    "Dans un premier temps, importons la librairie NumPy dans notre Notebook"
   ]
  },
  {
   "cell_type": "code",
   "execution_count": 4,
   "metadata": {},
   "outputs": [],
   "source": [
    "import numpy as np"
   ]
  },
  {
   "cell_type": "code",
   "execution_count": 5,
   "metadata": {},
   "outputs": [
    {
     "name": "stdout",
     "output_type": "stream",
     "text": [
      "la moyenne des revenus des clients est:\n",
      " 2390.0\n"
     ]
    }
   ],
   "source": [
    "#calculons la moyenne \n",
    "moyenne=np.mean(revenus)\n",
    "print(f\"la moyenne des revenus des clients est:\\n {moyenne}\")"
   ]
  },
  {
   "cell_type": "markdown",
   "metadata": {},
   "source": [
    "**Remarque:**\n",
    "Contrairement à une liste classique où l’on peut stocker tous types d’objets, NumPy n’acceptera qu’un seul type en entrée.\n",
    "De plus, NumPy donne également accès à de nombreuses autres fonctions mathématiques indispensables, applicables à des arrays ou même à des listes "
   ]
  },
  {
   "cell_type": "code",
   "execution_count": 8,
   "metadata": {},
   "outputs": [
    {
     "name": "stdout",
     "output_type": "stream",
     "text": [
      "La valeur absolue:  [2 1 1 2]\n",
      "Exponentielle:  [0.13533528 0.36787944 2.71828183 7.3890561 ]\n",
      "Logarithme:  [0.69314718 0.         0.         0.69314718]\n"
     ]
    }
   ],
   "source": [
    "x = [-2, -1, 1, 2]\n",
    "print(\"La valeur absolue: \", np.abs(x))\n",
    "print(\"Exponentielle: \", np.exp(x))\n",
    "print(\"Logarithme: \", np.log(np.abs(x)))"
   ]
  },
  {
   "cell_type": "markdown",
   "metadata": {},
   "source": [
    "## II. Creation d'un Array NumPy"
   ]
  },
  {
   "cell_type": "code",
   "execution_count": 11,
   "metadata": {},
   "outputs": [
    {
     "data": {
      "text/plain": [
       "array([1700, 2200, 3000, 1950, 3100])"
      ]
     },
     "execution_count": 11,
     "metadata": {},
     "output_type": "execute_result"
    }
   ],
   "source": [
    "revenus_array=np.array(revenus)\n",
    "revenus_array"
   ]
  },
  {
   "cell_type": "markdown",
   "metadata": {},
   "source": [
    "**Remarque:** \n",
    "Si dans la liste de départ il y a des données de types différents, NumPy essaiera de tous les convertir au type le plus général."
   ]
  },
  {
   "cell_type": "markdown",
   "metadata": {},
   "source": [
    "Il existe également des fonctions NumPy permettant de créer des arrays selon un certain pattern ou une spécification particulière. Les plus couramment utilisées sont :"
   ]
  },
  {
   "cell_type": "code",
   "execution_count": 13,
   "metadata": {},
   "outputs": [
    {
     "data": {
      "text/plain": [
       "array([0., 0., 0., 0., 0.])"
      ]
     },
     "execution_count": 13,
     "metadata": {},
     "output_type": "execute_result"
    }
   ],
   "source": [
    "#créer un array rempli de 0, de n éléments\n",
    "array_zero=np.zeros(5)\n",
    "array_zero\n"
   ]
  },
  {
   "cell_type": "code",
   "execution_count": 15,
   "metadata": {},
   "outputs": [
    {
     "data": {
      "text/plain": [
       "array([1., 1., 1., 1., 1.])"
      ]
     },
     "execution_count": 15,
     "metadata": {},
     "output_type": "execute_result"
    }
   ],
   "source": [
    "#créer un array rempli de 1, de n éléments\n",
    "array_one=np.ones(5)\n",
    "array_one\n"
   ]
  },
  {
   "cell_type": "code",
   "execution_count": 16,
   "metadata": {},
   "outputs": [
    {
     "data": {
      "text/plain": [
       "array([ 1,  4,  7, 10, 13, 16, 19])"
      ]
     },
     "execution_count": 16,
     "metadata": {},
     "output_type": "execute_result"
    }
   ],
   "source": [
    "#Créer un array rempli avec une séquence linéaire, qui ira de  i  à  j, par pas de  p  \n",
    "array_lineaire=np.arange(1, 20, 3)\n",
    "array_lineaire"
   ]
  },
  {
   "cell_type": "code",
   "execution_count": 20,
   "metadata": {},
   "outputs": [
    {
     "data": {
      "text/plain": [
       "array([ 5.  , 11.25, 17.5 , 23.75, 30.  ])"
      ]
     },
     "execution_count": 20,
     "metadata": {},
     "output_type": "execute_result"
    }
   ],
   "source": [
    "#créer un array de  n  valeurs espacées uniformément entre  i  et  j.\n",
    "array_uniform=np.linspace(5, 30, 5)\n",
    "array_uniform"
   ]
  },
  {
   "cell_type": "markdown",
   "metadata": {},
   "source": [
    "## III. Sélection des éléments à partir d’un array"
   ]
  },
  {
   "cell_type": "markdown",
   "metadata": {},
   "source": [
    "Comment les listes, l'accée aux elements d'array se fait avec les indices par le syntaxe suivant:"
   ]
  },
  {
   "cell_type": "markdown",
   "metadata": {},
   "source": [
    "#### 1. Accédez à un seul élement: nom_array[indice]"
   ]
  },
  {
   "cell_type": "code",
   "execution_count": 22,
   "metadata": {},
   "outputs": [
    {
     "data": {
      "text/plain": [
       "3100"
      ]
     },
     "execution_count": 22,
     "metadata": {},
     "output_type": "execute_result"
    }
   ],
   "source": [
    "# pour accéder au 5ème élement\n",
    "revenus_array[4]"
   ]
  },
  {
   "cell_type": "code",
   "execution_count": 23,
   "metadata": {},
   "outputs": [
    {
     "data": {
      "text/plain": [
       "3100"
      ]
     },
     "execution_count": 23,
     "metadata": {},
     "output_type": "execute_result"
    }
   ],
   "source": [
    "# pour accéder au dernier élément\n",
    "revenus_array[-1]"
   ]
  },
  {
   "cell_type": "code",
   "execution_count": 24,
   "metadata": {},
   "outputs": [],
   "source": [
    "# On peut aussi modifier les valeurs\n",
    "revenus_array[1] = 1900"
   ]
  },
  {
   "cell_type": "markdown",
   "metadata": {},
   "source": [
    "#### 2.Accédez à plusieurs élements contigus: nom_array[i:j:p] avec:\n",
    " i  : l’indice du début ;\n",
    "\n",
    " j  : l’indice de fin ;\n",
    "\n",
    " p : le pas.\n",
    "\n",
    " permettant de sélectionner tous les éléments compris entre l’indice  i  inclus, jusqu’à  j-1   – l’élément d’indice  j  est forcément exclu"
   ]
  },
  {
   "cell_type": "code",
   "execution_count": 26,
   "metadata": {},
   "outputs": [
    {
     "data": {
      "text/plain": [
       "array([1700, 1900, 3000])"
      ]
     },
     "execution_count": 26,
     "metadata": {},
     "output_type": "execute_result"
    }
   ],
   "source": [
    "#l’ensemble des éléments de l’indice 0 (soit le premier élément) jusqu’à celui d’indice 2 (soit le troisième)\n",
    "revenus_array[0:3]"
   ]
  },
  {
   "cell_type": "code",
   "execution_count": 27,
   "metadata": {},
   "outputs": [
    {
     "name": "stdout",
     "output_type": "stream",
     "text": [
      "[1700 1900 3000]\n"
     ]
    }
   ],
   "source": [
    "# Les 3 premiers éléments\n",
    "print(revenus_array[:3])"
   ]
  },
  {
   "cell_type": "code",
   "execution_count": 28,
   "metadata": {},
   "outputs": [
    {
     "name": "stdout",
     "output_type": "stream",
     "text": [
      "[3000 1950 3100]\n"
     ]
    }
   ],
   "source": [
    "# Les éléments à partir de l’indice 2\n",
    "print(revenus_array[2:])"
   ]
  },
  {
   "cell_type": "code",
   "execution_count": 29,
   "metadata": {},
   "outputs": [
    {
     "name": "stdout",
     "output_type": "stream",
     "text": [
      "[1700 3000 3100]\n"
     ]
    }
   ],
   "source": [
    "# Un élément sur deux\n",
    "print(revenus_array[::2])"
   ]
  },
  {
   "cell_type": "code",
   "execution_count": 30,
   "metadata": {},
   "outputs": [
    {
     "data": {
      "text/plain": [
       "array([3100, 1950, 3000, 1900, 1700])"
      ]
     },
     "execution_count": 30,
     "metadata": {},
     "output_type": "execute_result"
    }
   ],
   "source": [
    "#inverser le tableau\n",
    "revenus_array[::-1]"
   ]
  },
  {
   "cell_type": "markdown",
   "metadata": {},
   "source": [
    "#### 3. Accédez à plusieurs éléments selon une condition"
   ]
  },
  {
   "cell_type": "markdown",
   "metadata": {},
   "source": [
    "Comme il est possible de sélectionner les éléments du tableau via leur indice, il est possible aussi avec les arrays NumPy de renseigner la condition selon laquelle on souhaite sélectionner les éléments du tableau, avec le syntaxe :   nom_array[condition de sélection]  ."
   ]
  },
  {
   "cell_type": "code",
   "execution_count": 33,
   "metadata": {},
   "outputs": [
    {
     "data": {
      "text/plain": [
       "array([3000, 3100])"
      ]
     },
     "execution_count": 33,
     "metadata": {},
     "output_type": "execute_result"
    }
   ],
   "source": [
    "# selectionner seulemnt les valeurs qui sont >=2000dt\n",
    "revenus_array[revenus_array>= 2000]\n"
   ]
  },
  {
   "cell_type": "code",
   "execution_count": 34,
   "metadata": {},
   "outputs": [
    {
     "data": {
      "text/plain": [
       "array([3000, 3100])"
      ]
     },
     "execution_count": 34,
     "metadata": {},
     "output_type": "execute_result"
    }
   ],
   "source": [
    "#condition composée\n",
    "revenus_array[(revenus_array > 2000) & (revenus_array < 4000)]\n"
   ]
  },
  {
   "cell_type": "markdown",
   "metadata": {},
   "source": [
    "Remarque:\n",
    "Le et logique (respectivement ou logique) n’est pas matérialisé par le mot clé \"and\" (respectivement \"or\") comme dans une structure conditionnelle if  classique, mais par le symbole  &   (respectivement  \"|\"). De plus, chaque condition doit être absolument délimitée par des parenthèses, sous peine de rencontrer une erreur. Cette écriture s’explique par le fait qu’on ne compare pas des booléens, mais des arrays de booléens, terme à terme.  "
   ]
  },
  {
   "cell_type": "markdown",
   "metadata": {},
   "source": [
    "## Iv. Les méthodes d’array"
   ]
  },
  {
   "cell_type": "code",
   "execution_count": 39,
   "metadata": {},
   "outputs": [
    {
     "name": "stdout",
     "output_type": "stream",
     "text": [
      "la taille de tableau est\n",
      " (5,)\n"
     ]
    }
   ],
   "source": [
    "#Dimensions d'array\n",
    "taille=revenus_array.shape\n",
    "print(f\"la taille de tableau est\\n {taille}\")"
   ]
  },
  {
   "cell_type": "code",
   "execution_count": 40,
   "metadata": {},
   "outputs": [
    {
     "name": "stdout",
     "output_type": "stream",
     "text": [
      "la moyenne de tableau est\n",
      " 2330.0\n"
     ]
    }
   ],
   "source": [
    "# calculer la moyenne\n",
    "moyenne=revenus_array.mean()\n",
    "print(f\"la moyenne de tableau est\\n {moyenne}\")"
   ]
  },
  {
   "cell_type": "code",
   "execution_count": 41,
   "metadata": {},
   "outputs": [
    {
     "name": "stdout",
     "output_type": "stream",
     "text": [
      "le min de tableau est: 3100\n",
      " le max de tableau est: 1700\n"
     ]
    }
   ],
   "source": [
    "# calculer le maximum (ou le minimum) :\n",
    "val_min=revenus_array.max()\n",
    "val_max=revenus_array.min()\n",
    "print(f\"le min de tableau est: {val_min}\\n le max de tableau est: {val_max}\")"
   ]
  },
  {
   "cell_type": "code",
   "execution_count": 42,
   "metadata": {},
   "outputs": [
    {
     "name": "stdout",
     "output_type": "stream",
     "text": [
      "le indice_min de tableau est: 0\n",
      " le indice_max de tableau est: 4\n"
     ]
    }
   ],
   "source": [
    "# accéder à l’indice de l’élement minimum (ou maximum) :\n",
    "indice_min=revenus_array.argmin()\n",
    "indice_max=revenus_array.argmax()\n",
    "print(f\"le indice_min de tableau est: {indice_min}\\n le indice_max de tableau est: {indice_max}\")"
   ]
  },
  {
   "cell_type": "code",
   "execution_count": 43,
   "metadata": {},
   "outputs": [
    {
     "name": "stdout",
     "output_type": "stream",
     "text": [
      "le tableau est trié:  [1700 1900 1950 3000 3100]\n"
     ]
    }
   ],
   "source": [
    "# ordonner par ordre croissant :\n",
    "revenus_array.sort()\n",
    "print(\"le tableau est trié: \",revenus_array)"
   ]
  },
  {
   "cell_type": "code",
   "execution_count": 44,
   "metadata": {},
   "outputs": [
    {
     "name": "stdout",
     "output_type": "stream",
     "text": [
      "la somme de tableau est\n",
      " 11650\n"
     ]
    }
   ],
   "source": [
    "# calculer la somme :\n",
    "somme=revenus_array.sum()\n",
    "print(f\"la somme de tableau est\\n {somme}\")"
   ]
  },
  {
   "cell_type": "markdown",
   "metadata": {},
   "source": [
    "#### V. Application: \n"
   ]
  },
  {
   "cell_type": "markdown",
   "metadata": {},
   "source": [
    "Soit une personne travaillant dans un service data au sein d'une banque. Sa mission et de gerer les différents prêts des clients"
   ]
  },
  {
   "cell_type": "markdown",
   "metadata": {},
   "source": [
    "Commençant par la première tâche:\n",
    "\n"
   ]
  },
  {
   "cell_type": "markdown",
   "metadata": {},
   "source": [
    "soit les revenus mensuels des clients la liste:\n",
    "L = [1800, 1500, 2200, 3000, 2172, 5000, 1400, 1200, 1100, 1300]"
   ]
  },
  {
   "cell_type": "markdown",
   "metadata": {},
   "source": [
    "Travail demandé"
   ]
  },
  {
   "cell_type": "markdown",
   "metadata": {},
   "source": [
    "1. Créez un array que vous nommerez revenus\n",
    "2. Créez un nouvel array haut_revenus dans lequel vous sélectionnerez  \n",
    "   l'ensemble des revenus supérieurs ou égal à 3000dt\n",
    "3. calculez la somme des revenus annuelle. Pour rappel, les revenus listés  \n",
    "    sont mensuels.\n",
    "4. Calculez ensuite la moyenne des revenus des 10 clients\n",
    "5. Un de nos clients (dont les revenus mensuels s'élevaient jusque là à 1400dt) vient de nous annoncer qu'il venait d'obtenir une promotion. Grâce à cette dernière, il a gagné 200dt sur son salaire mensuel. Effectuez cette modification au sein de votre array revenus."
   ]
  },
  {
   "cell_type": "markdown",
   "metadata": {},
   "source": [
    "Transformer les données en tableaux"
   ]
  },
  {
   "cell_type": "markdown",
   "metadata": {},
   "source": [
    "Créer un tableau avec NumPy"
   ]
  },
  {
   "cell_type": "markdown",
   "metadata": {},
   "source": [
    "Nous n’avons vu que des tableaux/arrays à une dimension, mais on ne travaille que très rarement avec une seule colonne."
   ]
  },
  {
   "cell_type": "markdown",
   "metadata": {},
   "source": [
    "Prenons un exemple : vous travaillez dans le milieu bancaire et vous avez besoin de créer un tableau où vous retrouveriez, en plus des revenus de vos clients, leurs mensualités de remboursement de prêt, le nombre d'enfants à charge, et toute autre information susceptible de vous être utile.\n",
    "\n",
    "Considérons les clients suivants :\n",
    "\n",
    "- Ala, un jeune homme de 21 ans, gagnant 1 400 dt par mois et n’ayant aucun \n",
    "   enfant ;\n",
    "\n",
    "- Rachid, un homme de 54 ans, gagnant 2800 dt par mois et ayant 2 enfants ;\n",
    "\n",
    "- Alia, une femme de 27 ans gagnant 3 700 dt et ayant 3 enfants."
   ]
  },
  {
   "cell_type": "code",
   "execution_count": 2,
   "metadata": {},
   "outputs": [
    {
     "data": {
      "text/plain": [
       "[[21, 1400, 0], [54, 2800, 2], [27, 3700, 3]]"
      ]
     },
     "execution_count": 2,
     "metadata": {},
     "output_type": "execute_result"
    }
   ],
   "source": [
    "# presenter les données sous forme d'une liste de liste \n",
    "Ala=[21, 1400, 0]\n",
    "Rachid=[54, 2800, 2]\n",
    "Alia= [27, 3700, 3]\n",
    "Clients=[Ala, Rachid, Alia]\n",
    "Clients"
   ]
  },
  {
   "cell_type": "markdown",
   "metadata": {},
   "source": [
    " on trouve que Clients est une liste de liste, mais nous avons néanmoins toujours l’ensemble des limitations liées aux listes, avec cette façon de faire.\n",
    "\n",
    " "
   ]
  },
  {
   "cell_type": "markdown",
   "metadata": {},
   "source": [
    "Utilisez donc NumpPy et des arrays pour resoudre ses problèmes. En effet, un array est un objet multidimensionnel, c’est-à -dire qu’il est possible de créer des arrays de toutes dimensions, et que l’ensemble des méthodes d’array prennent en compte ce côté multidimensionnel."
   ]
  },
  {
   "cell_type": "markdown",
   "metadata": {},
   "source": [
    "La façon la plus simple de créer un array est de le faire à partir d’une liste de listes Python, comme avec une liste classique. Il suffira d'utliser le syntaxe suivant: \n",
    "\n",
    "      np.array(nom_liste) \n",
    "      pour transformer notre liste de listes en array NumPy de 3 lignes et 3 colonnes."
   ]
  },
  {
   "cell_type": "code",
   "execution_count": 5,
   "metadata": {},
   "outputs": [
    {
     "name": "stdout",
     "output_type": "stream",
     "text": [
      "T1 [[1 2]\n",
      " [3 4]\n",
      " [5 6]]\n"
     ]
    }
   ],
   "source": [
    "#exemple:\n",
    "import numpy as np\n",
    "#un array de 3 lignes et 2 colonnes\n",
    "tab1 = np.array([[1, 2],\n",
    "    [3, 4],\n",
    "    [5, 6]])\n",
    "print(\"T1\", tab1)\n",
    "\n"
   ]
  },
  {
   "cell_type": "code",
   "execution_count": 7,
   "metadata": {},
   "outputs": [
    {
     "name": "stdout",
     "output_type": "stream",
     "text": [
      "T2 [[1 2 3]\n",
      " [4 5 6]]\n"
     ]
    }
   ],
   "source": [
    "#un array de 2 lignes et 3 colonnes\n",
    "tab2 = np.array([[1, 2, 3],\n",
    "        [4, 5, 6]])\n",
    "print(\"T2\", tab2)"
   ]
  },
  {
   "cell_type": "markdown",
   "metadata": {},
   "source": [
    "Remarque: \n",
    "Il est possible de créer des tableaux en bien plus que 2 dimensions. Par exemple, pour un tableau en 3D il suffira d’utiliser une liste de listes de listes."
   ]
  },
  {
   "cell_type": "markdown",
   "metadata": {},
   "source": [
    "Comme précédemment, nous pouvons également utiliser des fonctions NumPy pour créer des tableaux plus ou moins complexes. Voici quelques exemples de fonctions couramment utilisées :"
   ]
  },
  {
   "cell_type": "code",
   "execution_count": null,
   "metadata": {},
   "outputs": [],
   "source": [
    "# un tableau de 3x5 rempli de 1\n",
    "array_ones=np.ones((3, 5))\n",
    "array_ones"
   ]
  },
  {
   "cell_type": "code",
   "execution_count": 9,
   "metadata": {},
   "outputs": [
    {
     "data": {
      "text/plain": [
       "array([[0., 0., 0., 0.],\n",
       "       [0., 0., 0., 0.],\n",
       "       [0., 0., 0., 0.],\n",
       "       [0., 0., 0., 0.]])"
      ]
     },
     "execution_count": 9,
     "metadata": {},
     "output_type": "execute_result"
    }
   ],
   "source": [
    "# un tableau de 4 lignes et de 4 colonnes contenant que des 0\n",
    "array_zeros=np.zeros((4, 4))\n",
    "array_zeros"
   ]
  },
  {
   "cell_type": "code",
   "execution_count": 10,
   "metadata": {},
   "outputs": [
    {
     "data": {
      "text/plain": [
       "array([[0.13760635, 0.70084894, 0.21553091],\n",
       "       [0.22154671, 0.41944091, 0.92989067],\n",
       "       [0.37675976, 0.06179739, 0.30346947],\n",
       "       [0.0762272 , 0.55371554, 0.134651  ],\n",
       "       [0.6244412 , 0.83869589, 0.04702978],\n",
       "       [0.03296119, 0.45406305, 0.11240946]])"
      ]
     },
     "execution_count": 10,
     "metadata": {},
     "output_type": "execute_result"
    }
   ],
   "source": [
    "# un tableau de 6x3 rempli de valeurs aléatoires comprises entre 0 et 1\n",
    "array_rand=np.random.random((6, 3))\n",
    "array_rand"
   ]
  },
  {
   "cell_type": "code",
   "execution_count": 11,
   "metadata": {},
   "outputs": [
    {
     "data": {
      "text/plain": [
       "array([[9, 8, 4],\n",
       "       [7, 7, 5],\n",
       "       [9, 6, 8]])"
      ]
     },
     "execution_count": 11,
     "metadata": {},
     "output_type": "execute_result"
    }
   ],
   "source": [
    "# un tableau de 3x3 rempli de valeurs aléatoires entières, comprises entre 1 et 10\n",
    "array_randint=np.random.randint(1, 10, size=(3, 3))\n",
    "array_randint"
   ]
  },
  {
   "cell_type": "markdown",
   "metadata": {},
   "source": [
    "Manipulations avancées d’array"
   ]
  },
  {
   "cell_type": "code",
   "execution_count": 14,
   "metadata": {},
   "outputs": [
    {
     "name": "stdout",
     "output_type": "stream",
     "text": [
      "data: [[  21 1400    0]\n",
      " [  54 2800    2]\n",
      " [  27 3700    3]]\n"
     ]
    }
   ],
   "source": [
    "#transformer la liste des Clients en array\n",
    "Data=np.array(Clients)\n",
    "print(\"data:\", Data)"
   ]
  },
  {
   "cell_type": "code",
   "execution_count": 15,
   "metadata": {},
   "outputs": [
    {
     "data": {
      "text/plain": [
       "1400"
      ]
     },
     "execution_count": 15,
     "metadata": {},
     "output_type": "execute_result"
    }
   ],
   "source": [
    "#afficher le revenu de premier client\n",
    "Data[0,1]"
   ]
  },
  {
   "cell_type": "code",
   "execution_count": 16,
   "metadata": {},
   "outputs": [
    {
     "data": {
      "text/plain": [
       "array([  21, 1400,    0])"
      ]
     },
     "execution_count": 16,
     "metadata": {},
     "output_type": "execute_result"
    }
   ],
   "source": [
    "#afficher les information du premier client\n",
    "Data[0,:]"
   ]
  },
  {
   "cell_type": "code",
   "execution_count": 22,
   "metadata": {},
   "outputs": [
    {
     "data": {
      "text/plain": [
       "array([0, 2, 3])"
      ]
     },
     "execution_count": 22,
     "metadata": {},
     "output_type": "execute_result"
    }
   ],
   "source": [
    "#afficher la liste des enfants des clients \n",
    "Data[:,2]"
   ]
  },
  {
   "cell_type": "code",
   "execution_count": 26,
   "metadata": {},
   "outputs": [
    {
     "data": {
      "text/plain": [
       "array([[  54, 2800,    2],\n",
       "       [  27, 3700,    3]])"
      ]
     },
     "execution_count": 26,
     "metadata": {},
     "output_type": "execute_result"
    }
   ],
   "source": [
    "#les clients qui ont l'age >= 25 ans\n",
    "Data[Data[:,0] > 25]"
   ]
  },
  {
   "cell_type": "code",
   "execution_count": 28,
   "metadata": {},
   "outputs": [
    {
     "data": {
      "text/plain": [
       "array([[  27, 3700,    3]])"
      ]
     },
     "execution_count": 28,
     "metadata": {},
     "output_type": "execute_result"
    }
   ],
   "source": [
    "#les clients qui ont des revenus > 3000dt\n",
    "Data[Data[:,1] > 3000]"
   ]
  },
  {
   "cell_type": "code",
   "execution_count": 29,
   "metadata": {},
   "outputs": [
    {
     "data": {
      "text/plain": [
       "array([[  21, 1400,    0],\n",
       "       [  54, 2800,    2],\n",
       "       [  27, 3700,    3],\n",
       "       [  33, 2400,    3]])"
      ]
     },
     "execution_count": 29,
     "metadata": {},
     "output_type": "execute_result"
    }
   ],
   "source": [
    "#Ajouter un nouveau client à la suite de notre data en utilisant la methode vstack\n",
    "Asma=[33, 2400, 3]\n",
    "Data=np.vstack((Data,Asma))\n",
    "Data\n"
   ]
  },
  {
   "cell_type": "markdown",
   "metadata": {},
   "source": [
    "Application:"
   ]
  },
  {
   "cell_type": "markdown",
   "metadata": {},
   "source": [
    "Soit une liste de 10 clients dont on a: \n",
    "- le revenu mensuel\n",
    "- l'age du client \n",
    "- le nombre d'enfants en charge\n"
   ]
  },
  {
   "cell_type": "markdown",
   "metadata": {},
   "source": [
    "1. Ala= [1800, 21, 0]\n",
    "2. Ahmed = [1500, 54, 2]\n",
    "3. Rachid = [2200, 28, 3]\n",
    "4. sana = [3000, 37, 1]\n",
    "5. paul = [2172, 37, 2]\n",
    "6. Asma = [5000, 32, 0]\n",
    "7. yannik = [1400, 23, 0]\n",
    "8. anne = [1200, 25, 1]\n",
    "9. souha = [1100, 19, 0]\n",
    "10. sarra= [1300, 31, 2]"
   ]
  },
  {
   "cell_type": "markdown",
   "metadata": {},
   "source": [
    "Travail demandé: \n",
    "1. Creer un tableau NumPy contient les données des clients nommé DATA\n",
    "2. Paul souhaiterait contracter un prêt immobilier :\n",
    "       - affichez les informations qui lui sont relatives. \n",
    "       - calculez ses mensualités maximales, en sachant que le taux \n",
    "       l'endettement maximum est de 35% (il ne pourra donc pas rembourser par mois plus de 35% de son revenu).\n",
    "3. Ajouter à notre DATA un nouveau client vient d'arriver dont les informations sont les suivantes :    louise=[1900, 31, 1]. \n",
    "4. Stockez les informations de salaire de notre clientèle dans une variable revenus"
   ]
  }
 ],
 "metadata": {
  "kernelspec": {
   "display_name": "Python 3",
   "language": "python",
   "name": "python3"
  },
  "language_info": {
   "codemirror_mode": {
    "name": "ipython",
    "version": 3
   },
   "file_extension": ".py",
   "mimetype": "text/x-python",
   "name": "python",
   "nbconvert_exporter": "python",
   "pygments_lexer": "ipython3",
   "version": "3.10.6"
  }
 },
 "nbformat": 4,
 "nbformat_minor": 2
}
